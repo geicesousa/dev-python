{
 "cells": [
  {
   "cell_type": "markdown",
   "id": "d5ccc3f1-d1b4-4d13-b25b-413f14832622",
   "metadata": {},
   "source": [
    "#### naive sem fuso horário; \n",
    "###  utcnow() é naive\n",
    "### aware com fuso horário (timezone)\n"
   ]
  },
  {
   "cell_type": "code",
   "execution_count": 2,
   "id": "43b4108c-335b-4d29-a1f4-880622684e1d",
   "metadata": {},
   "outputs": [
    {
     "name": "stdout",
     "output_type": "stream",
     "text": [
      "2024-05-10 10:09:30.433454\n",
      "2024-05-10 09:39:30.433454\n",
      "2024-05-07 22:39:30.433454\n",
      "2024-05-10 11:09:30.433454\n",
      "2024-05-10 11:39:30.433454\n",
      "2024-05-12 22:39:30.433454\n",
      "2024-05-12 10:39:30.433454\n",
      "2024-05-10\n",
      "\n"
     ]
    }
   ],
   "source": [
    "from datetime import date, datetime, timedelta, timezone\n",
    "\n",
    "minutos = 30\n",
    "hora = 1\n",
    "hora_em_min = 60\n",
    "data_atual = datetime.now()\n",
    "\n",
    "print(f'''{data_atual - timedelta(minutes=minutos)}\n",
    "{data_atual - timedelta(hours=hora)}\n",
    "{data_atual - timedelta(hours=hora_em_min)}\n",
    "{data_atual + timedelta(minutes=minutos)}\n",
    "{data_atual + timedelta(hours=hora)}\n",
    "{data_atual + timedelta(hours=hora_em_min)}\n",
    "{data_atual + timedelta(days=2)}\n",
    "{date.today()}\n",
    "''')\n",
    "\n"
   ]
  },
  {
   "cell_type": "code",
   "execution_count": null,
   "id": "0c9ad38e-fcf3-4509-a296-5a6baedba170",
   "metadata": {},
   "outputs": [],
   "source": []
  }
 ],
 "metadata": {
  "kernelspec": {
   "display_name": "Python 3 (ipykernel)",
   "language": "python",
   "name": "python3"
  },
  "language_info": {
   "codemirror_mode": {
    "name": "ipython",
    "version": 3
   },
   "file_extension": ".py",
   "mimetype": "text/x-python",
   "name": "python",
   "nbconvert_exporter": "python",
   "pygments_lexer": "ipython3",
   "version": "3.11.6"
  }
 },
 "nbformat": 4,
 "nbformat_minor": 5
}
